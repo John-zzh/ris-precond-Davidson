{
 "cells": [
  {
   "cell_type": "code",
   "execution_count": 1,
   "metadata": {},
   "outputs": [],
   "source": [
    "import time\n",
    "import numpy as np\n",
    "from numpy import *\n",
    "import matplotlib.pylab as plt\n",
    "import operator\n",
    "import pyscf\n",
    "from pyscf import gto, scf, dft, tddft, data\n",
    "\n",
    "\n",
    "elements = ['H' , 'He', 'Li', 'Be', 'B' , 'C' , 'N' , 'O' , 'F' , 'Ne',\n",
    "    'Na', 'Mg', 'Al', 'Si', 'P' , 'S' , 'Cl', 'Ar', 'K' , 'Ca',\n",
    "    'Sc', 'Ti', 'V' , 'Cr', 'Mn', 'Fe', 'Co', 'Ni', 'Cu', 'Zn',\n",
    "    'Ga', 'Ge', 'As', 'Se', 'Br', 'Kr', 'Rb', 'Sr', 'Y' , 'Zr',\n",
    "    'Nb', 'Mo', 'Tc', 'Ru', 'Rh', 'Pd', 'Ag', 'Cd', 'In', 'Sn',\n",
    "    'Sb', 'Te', 'I' , 'Xe', 'Cs', 'Ba', 'La', 'Ce', 'Pr', 'Nd',\n",
    "    'Pm', 'Sm', 'Eu', 'Gd', 'Tb', 'Dy', 'Ho', 'Er', 'Tm', 'Yb',\n",
    "    'Lu', 'Hf', 'Ta', 'W' , 'Re', 'Os', 'Ir', 'Pt', 'Au', 'Hg',\n",
    "    'Tl', 'Pb', 'Bi', 'Po', 'At', 'Rn', 'Fr', 'Ra', 'Ac', 'Th',\n",
    "    'Pa', 'U' , 'Np', 'Pu'] \n",
    "hardness = [\n",
    "0.47259288,\n",
    "0.92203391,\n",
    "0.17452888,\n",
    "0.25700733,\n",
    "0.33949086,\n",
    "0.42195412,\n",
    "0.50438193,\n",
    "0.58691863,\n",
    "0.66931351,\n",
    "0.75191607,\n",
    "0.17964105,\n",
    "0.22157276,\n",
    "0.26348578,\n",
    "0.30539645,\n",
    "0.34734014,\n",
    "0.38924725,\n",
    "0.43115670,\n",
    "0.47308269,\n",
    "0.17105469,\n",
    "0.20276244,\n",
    "0.21007322,\n",
    "0.21739647,\n",
    "0.22471039,\n",
    "0.23201501,\n",
    "0.23933969,\n",
    "0.24665638,\n",
    "0.25398255,\n",
    "0.26128863,\n",
    "0.26859476,\n",
    "0.27592565,\n",
    "0.30762999,\n",
    "0.33931580,\n",
    "0.37235985,\n",
    "0.40273549,\n",
    "0.43445776,\n",
    "0.46611708,\n",
    "0.15585079,\n",
    "0.18649324,\n",
    "0.19356210,\n",
    "0.20063311,\n",
    "0.20770522,\n",
    "0.21477254,\n",
    "0.22184614,\n",
    "0.22891872,\n",
    "0.23598621,\n",
    "0.24305612,\n",
    "0.25013018,\n",
    "0.25719937,\n",
    "0.28784780,\n",
    "0.31848673,\n",
    "0.34912431,\n",
    "0.37976593,\n",
    "0.41040808,\n",
    "0.44105777,\n",
    "0.05019332,\n",
    "0.06762570,\n",
    "0.08504445,\n",
    "0.10247736,\n",
    "0.11991105,\n",
    "0.13732772,\n",
    "0.15476297,\n",
    "0.17218265,\n",
    "0.18961288,\n",
    "0.20704760,\n",
    "0.22446752,\n",
    "0.24189645,\n",
    "0.25932503,\n",
    "0.27676094,\n",
    "0.29418231,\n",
    "0.31159587,\n",
    "0.32902274,\n",
    "0.34592298,\n",
    "0.36388048,\n",
    "0.38130586,\n",
    "0.39877476,\n",
    "0.41614298,\n",
    "0.43364510,\n",
    "0.45104014,\n",
    "0.46848986,\n",
    "0.48584550,\n",
    "0.12526730,\n",
    "0.14268677,\n",
    "0.16011615,\n",
    "0.17755889,\n",
    "0.19497557,\n",
    "0.21240778,\n",
    "0.07263525,\n",
    "0.09422158,\n",
    "0.09920295,\n",
    "0.10418621,\n",
    "0.14235633,\n",
    "0.16394294,\n",
    "0.18551941,\n",
    "0.22370139]\n",
    "HARDNESS = dict(zip(elements,hardness))"
   ]
  },
  {
   "cell_type": "code",
   "execution_count": 2,
   "metadata": {},
   "outputs": [
    {
     "data": {
      "text/plain": [
       "<pyscf.gto.mole.Mole at 0x105bcf610>"
      ]
     },
     "execution_count": 2,
     "metadata": {},
     "output_type": "execute_result"
    }
   ],
   "source": [
    "mol = gto.Mole()\n",
    "mol.build(atom = 'C         -5.14247        3.17333        0.00000;\\\n",
    "#O         -4.07247        3.17333        0.00000;\\\n",
    "#H         -5.49914        2.49946       -0.75072;\\\n",
    "#H         -5.49914        4.16041       -0.20823;\\\n",
    "#H         -5.49914        2.86013        0.95895;\\\n",
    "#H         -3.74914        3.45727       -0.86933', basis = 'def2-SVP', symmetry = True)"
   ]
  },
  {
   "cell_type": "code",
   "execution_count": 3,
   "metadata": {},
   "outputs": [
    {
     "name": "stdout",
     "output_type": "stream",
     "text": [
      "converged SCF energy = -37.7234798075852\n"
     ]
    },
    {
     "data": {
      "text/plain": [
       "-37.723479807585214"
      ]
     },
     "execution_count": 3,
     "metadata": {},
     "output_type": "execute_result"
    }
   ],
   "source": [
    "mf = dft.RKS(mol) #mf is ground density?\n",
    "mf.xc = 'b3lyp'\n",
    "mf.kernel()  #single point energy"
   ]
  },
  {
   "cell_type": "code",
   "execution_count": 4,
   "metadata": {},
   "outputs": [
    {
     "name": "stdout",
     "output_type": "stream",
     "text": [
      "Excited State energies (eV)\n",
      "[11.53588533 25.41647937 51.02603713]\n",
      "Pyscf time = 0.0764\n"
     ]
    }
   ],
   "source": [
    "td = tddft.TDA(mf)\n",
    "start = time.time()\n",
    "td.kernel()    #compute first few excited states.\n",
    "end = time.time()\n",
    "print ('Pyscf time =', round(end-start,4))"
   ]
  },
  {
   "cell_type": "code",
   "execution_count": 5,
   "metadata": {},
   "outputs": [],
   "source": [
    "#print (mol.atom_pure_symbol(0))\n",
    "#to return pure element symbol only, no special characters\n"
   ]
  },
  {
   "cell_type": "code",
   "execution_count": 6,
   "metadata": {},
   "outputs": [],
   "source": [
    "AO = [int(i.split(' ',1)[0]) for i in mol.ao_labels()] \n",
    "# .split(' ',1) is to split each element by space, split once.\n",
    "# mol.ao_labels() it is a list of all AOs and corresponding atom_id, AO is a list of atom_id\n",
    "#[0, 0, 0, 0, 0, 0, 0, 0, 0, 0, 0, 0, 0, 0, 1, 1, 1, 1, 1, 2, 2, 2, 2, 2]\n",
    "\n",
    "\n",
    "N_bf = len(AO)\n",
    "#print (AO) "
   ]
  },
  {
   "cell_type": "code",
   "execution_count": 7,
   "metadata": {},
   "outputs": [
    {
     "name": "stdout",
     "output_type": "stream",
     "text": [
      "TODO: total wave-function symmetry for Dooh\n",
      "occupancy for each irrep:    A1g E1gx E1gy  A1u E1uy E1ux E2gx E2gy\n",
      "                               2    0    0    1    0    0    0    0\n",
      "**** MO energy ****\n",
      "MO #1 (A1g #1), energy= -10.3176191933011 occ= 2\n",
      "MO #2 (A1g #2), energy= -0.527681034910241 occ= 2\n",
      "MO #3 (A1u #1), energy= -0.203896410073949 occ= 2\n",
      "MO #4 (E1uy #1), energy= -0.141748819825121 occ= 0\n",
      "MO #5 (E1ux #1), energy= -0.141748819825121 occ= 0\n",
      "MO #6 (A1g #3), energy= 0.351484745023736 occ= 0\n",
      "MO #7 (E1uy #2), energy= 0.47913401647788 occ= 0\n",
      "MO #8 (E1ux #2), energy= 0.479134016477879 occ= 0\n",
      "MO #9 (A1u #2), energy= 0.486373674033411 occ= 0\n",
      "MO #10 (E2gy #1), energy= 1.65569587849078 occ= 0\n",
      "MO #11 (E2gx #1), energy= 1.65569695662062 occ= 0\n",
      "MO #12 (E1gx #1), energy= 1.67429534765711 occ= 0\n",
      "MO #13 (E1gy #1), energy= 1.67429534765711 occ= 0\n",
      "MO #14 (A1g #4), energy= 1.69692372747356 occ= 0\n",
      " ** Mulliken atomic charges  **\n",
      "charge of  0C =      0.00000\n",
      "Dipole moment(X, Y, Z, Debye): -0.00000,  0.00000,  0.00000\n",
      "3 11 14\n"
     ]
    }
   ],
   "source": [
    "mf.analyze()\n",
    "##MO energies\n",
    "Natm = mol.natm #number of atoms\n",
    "MOe = mf.mo_energy #an array of MO energies\n",
    "\n",
    "\n",
    "occupied = len(np.where(mf.mo_occ==2)[0])\n",
    "#mf.mo_occ is an array of occupance [2,2,2,2,2,0,0,0,0.....]\n",
    "virtual = N_bf - occupied\n",
    "print (occupied, virtual, N_bf)\n"
   ]
  },
  {
   "cell_type": "code",
   "execution_count": 8,
   "metadata": {},
   "outputs": [],
   "source": [
    "#mf.mulliken_pop_meta_lowdin_ao()\n",
    "#population analysis"
   ]
  },
  {
   "cell_type": "code",
   "execution_count": 28,
   "metadata": {},
   "outputs": [],
   "source": [
    "#nocc = mol.nelectron \n",
    "# mol.nelectron is number of electrons, not necessary the number of MOs\n",
    "\n",
    "#C = pyscf.lo.orth.orth_ao(mol, method = 'lowdin')\n",
    "\n",
    "C = mf.mo_coeff \n",
    "# mf.mo_coeff is the coefficient matrix\n",
    "\n",
    "\n",
    "S = np.dot(np.linalg.inv(C.T), np.linalg.inv(C))\n",
    "\n",
    "#S = mf.get_ovlp() #.get_ovlp()  is not basis overlap matrix\n",
    "\n",
    "# print (np.linalg.norm(S1-S2))\n",
    "\n",
    "s,ket = np.linalg.eig(S)\n",
    "#s are eigenvalues, must be all positive\n",
    "#each column of ket is a eigenket\n",
    "#print (s)\n",
    "s = s**0.5\n",
    "X = np.linalg.multi_dot([ket,np.diag(s),ket.T])\n",
    "#X == S^1/2\n",
    "\n",
    "C = np.dot(X,C)\n",
    "# #now C is orthogonzalized\n",
    "# print (np.round(C,2))\n"
   ]
  },
  {
   "cell_type": "code",
   "execution_count": 29,
   "metadata": {},
   "outputs": [],
   "source": [
    "def generateQ (atom_id):\n",
    "    q = np.zeros([N_bf, N_bf])\n",
    "    #q is same size with C\n",
    "    for i in range (0, N_bf):\n",
    "        for p in range (0, N_bf):\n",
    "            #for a certain element q[i,p]\n",
    "            #first two loops is to iterate all ith and pth column of C\n",
    "            for mu in AO: \n",
    "                # the last loop is to sum up all C_mui*C_mup, calculate element q[i,p]\n",
    "                if mu == atom_id:\n",
    "                    q[i,p] += C[mu,i]*C[mu,p]\n",
    "    return q\n",
    "\n",
    "Qmatrix = [(generateQ(atom_id)) for atom_id in range (0, Natm)]\n",
    "#a list of q matrix\n",
    "\n",
    "# plt.matshow(q_atom_0)\n",
    "# plt.show()\n",
    "\n",
    "#print (np.round(q_atom_0.diagonal(),2))\n",
    "#print (np.round(q_atom_0,2))\n",
    "\n"
   ]
  },
  {
   "cell_type": "code",
   "execution_count": 30,
   "metadata": {},
   "outputs": [
    {
     "name": "stdout",
     "output_type": "stream",
     "text": [
      "0.6575 0.6\n"
     ]
    }
   ],
   "source": [
    "a_x = 0.25\n",
    "\n",
    "beta1=0.2\n",
    "beta2=1.83\n",
    "\n",
    "alpha1=1.42\n",
    "alpha2=0.48\n",
    "\n",
    "beta = beta1 + beta2 * a_x\n",
    "alpha = alpha2 + alpha2 * a_x\n",
    "\n",
    "print (beta, alpha)"
   ]
  },
  {
   "cell_type": "code",
   "execution_count": 31,
   "metadata": {},
   "outputs": [],
   "source": [
    "#function to return distance between two atoms\n",
    "def R (atom_A_id, atom_B_id):\n",
    "    a = mol.atom_coord(atom_A_id) #coordinates of atom A\n",
    "    b = mol.atom_coord(atom_B_id) #coordinates of atom B\n",
    "    distance = np.linalg.norm (a - b)\n",
    "    return distance\n",
    "#(mol.atom_coord(atom_id)) is to return the coordinates of a certain atom, it is a ndarray"
   ]
  },
  {
   "cell_type": "code",
   "execution_count": 32,
   "metadata": {},
   "outputs": [],
   "source": [
    "#function to return chemical hardness from dictionary HARDNESS\n",
    "def Hardness (atom_id):\n",
    "    atom = mol.atom_pure_symbol(atom_id) \n",
    "    #the symbol of atom looked at\n",
    "    return HARDNESS[atom]\n",
    "# print (Hardness (1))\n",
    "# print (Hardness (0))"
   ]
  },
  {
   "cell_type": "code",
   "execution_count": 33,
   "metadata": {},
   "outputs": [],
   "source": [
    "def eta (atom_A_id, atom_B_id):\n",
    "    eta = (Hardness(atom_A_id) + Hardness(atom_B_id))/2\n",
    "    return eta\n",
    "#eta(0,1)"
   ]
  },
  {
   "cell_type": "code",
   "execution_count": 34,
   "metadata": {},
   "outputs": [],
   "source": [
    "def gammaJ(atom_A_id, atom_B_id):\n",
    "    gamma_A_B_J = (1/(R(atom_A_id, atom_B_id)**beta + (a_x*eta(atom_A_id, atom_B_id))**(-beta)))**(1/beta)\n",
    "    return gamma_A_B_J\n",
    "#gammaJ (2,1)"
   ]
  },
  {
   "cell_type": "code",
   "execution_count": 35,
   "metadata": {},
   "outputs": [],
   "source": [
    "def gammaK(atom_A_id, atom_B_id):\n",
    "    gamma_A_B_K = (1/(R(atom_A_id, atom_B_id)**alpha \\\n",
    "                   + eta(atom_A_id, atom_B_id)**(-alpha)))\\\n",
    "                    **(1/alpha)\n",
    "    return gamma_A_B_K\n",
    "#gammaK (2,1)"
   ]
  },
  {
   "cell_type": "code",
   "execution_count": 36,
   "metadata": {},
   "outputs": [
    {
     "data": {
      "text/plain": [
       "0.0"
      ]
     },
     "execution_count": 36,
     "metadata": {},
     "output_type": "execute_result"
    }
   ],
   "source": [
    "#define two electron intergeral (pq|rs)\n",
    "def ele_int (p,q,r,s):\n",
    "    pqrs = 0\n",
    "    if q <= occupied:\n",
    "        for atom_A_id in range (0, Natm):\n",
    "            for atom_B_id in range (0, Natm):\n",
    "                pqrs += Qmatrix[atom_A_id][p,q] * Qmatrix[atom_B_id][r,s] * gammaJ(atom_A_id, atom_B_id)\n",
    "                #(ij|ab)\n",
    "    else:\n",
    "        for atom_A_id in range (0, Natm):\n",
    "            for atom_B_id in range (0, Natm):\n",
    "                pqrs += Qmatrix[atom_A_id][p,q] * Qmatrix[atom_B_id][r,s] * gammaK(atom_A_id, atom_B_id)\n",
    "                #(ia|jb)\n",
    "    return pqrs\n",
    "ele_int (1,2,3,5)"
   ]
  },
  {
   "cell_type": "code",
   "execution_count": 37,
   "metadata": {},
   "outputs": [
    {
     "data": {
      "text/plain": [
       "0"
      ]
     },
     "execution_count": 37,
     "metadata": {},
     "output_type": "execute_result"
    }
   ],
   "source": [
    "def delta (a, b):\n",
    "    if a == b:\n",
    "        return 1\n",
    "    else:\n",
    "        return 0\n",
    "delta(4,2)"
   ]
  },
  {
   "cell_type": "code",
   "execution_count": 38,
   "metadata": {},
   "outputs": [
    {
     "data": {
      "text/plain": [
       "(33, 33)"
      ]
     },
     "execution_count": 38,
     "metadata": {},
     "output_type": "execute_result"
    }
   ],
   "source": [
    "A = np.zeros ([occupied*virtual, occupied*virtual])\n",
    "np.shape(A)"
   ]
  },
  {
   "cell_type": "code",
   "execution_count": 39,
   "metadata": {},
   "outputs": [
    {
     "name": "stdout",
     "output_type": "stream",
     "text": [
      "32 32\n"
     ]
    }
   ],
   "source": [
    "#build A matrix\n",
    "m = -1\n",
    "for i in range (0, occupied):\n",
    "    for a in range (occupied, N_bf):\n",
    "        m += 1 \n",
    "        #for each occupied-virtial orbital combination, it corresponds to a certain row\n",
    "        n = -1\n",
    "        for j in range (0, occupied):\n",
    "            for b in range (occupied, N_bf):\n",
    "                n +=1\n",
    "            #for each occupied-virtial orbital combination, it corresponds to a certain column\n",
    "                A[m,n] = delta(i,j) * delta(a,b) * (MOe[a] - MOe[i]) \\\n",
    "                            + 2 * ele_int(i,a,j,b) - ele_int(i,j,a,b)\n",
    "print (m,n)"
   ]
  },
  {
   "cell_type": "code",
   "execution_count": 43,
   "metadata": {},
   "outputs": [
    {
     "name": "stdout",
     "output_type": "stream",
     "text": [
      "True\n"
     ]
    }
   ],
   "source": [
    "#check whether A is symmetric\n",
    "def check_symmetric(a, tol=1e-8):\n",
    "    return np.all(np.abs(a-a.T) < tol)\n",
    "print (check_symmetric(A, tol=1e-8))"
   ]
  },
  {
   "cell_type": "code",
   "execution_count": 40,
   "metadata": {},
   "outputs": [
    {
     "data": {
      "image/png": "[encoded data removed]",
      "text/plain": [
       "<Figure size 288x288 with 1 Axes>"
      ]
     },
     "metadata": {
      "needs_background": "light"
     },
     "output_type": "display_data"
    }
   ],
   "source": [
    "plt.matshow(A)\n",
    "plt.show()"
   ]
  },
  {
   "cell_type": "code",
   "execution_count": 44,
   "metadata": {},
   "outputs": [],
   "source": [
    "#print (np.round(A,2))\n",
    "eigv,eigk = np.linalg.eigh(A)\n",
    "#eigh guarantees you that the eigenvalues are sorted and uses a faster algorithm \n",
    "#that takes advantage of the fact that the matrix is symmetric. "
   ]
  },
  {
   "cell_type": "code",
   "execution_count": 45,
   "metadata": {},
   "outputs": [
    {
     "name": "stdout",
     "output_type": "stream",
     "text": [
      "[ 1.69112208  1.69112208 10.50175057 10.50175057 15.11269113]\n"
     ]
    }
   ],
   "source": [
    "print (eigv[:5]*27.21138624598853)\n",
    "# ':n', first n elements; 'n:' all elements except firt n "
   ]
  },
  {
   "cell_type": "code",
   "execution_count": 48,
   "metadata": {},
   "outputs": [
    {
     "name": "stdout",
     "output_type": "stream",
     "text": [
      "size of Z is 33\n"
     ]
    },
    {
     "data": {
      "image/png": "[encoded data removed]",
      "text/plain": [
       "<Figure size 288x288 with 1 Axes>"
      ]
     },
     "metadata": {
      "needs_background": "light"
     },
     "output_type": "display_data"
    },
    {
     "data": {
      "image/png": "[encoded data removed]",
      "text/plain": [
       "<Figure size 288x288 with 1 Axes>"
      ]
     },
     "metadata": {
      "needs_background": "light"
     },
     "output_type": "display_data"
    },
    {
     "data": {
      "image/png": "[encoded data removed]",
      "text/plain": [
       "<Figure size 288x288 with 1 Axes>"
      ]
     },
     "metadata": {
      "needs_background": "light"
     },
     "output_type": "display_data"
    }
   ],
   "source": [
    "#this block is to reprocude the TDA A matrix\n",
    "vind, hdiag = td.gen_vind(mf)\n",
    "n = len(hdiag)\n",
    "print ('size of Z is', n)\n",
    "Z = np.zeros((n,n))\n",
    "I = np.eye(n)\n",
    "for i in range (0,n):\n",
    "    Z[:,i] = vind (I[:,i])\n",
    "plt.matshow(Z)\n",
    "plt.show() #visualize the matrix\n",
    "\n",
    "plt.matshow(A)\n",
    "plt.show()\n",
    "\n",
    "D = A - Z\n",
    "plt.matshow(D)\n",
    "plt.show()"
   ]
  },
  {
   "cell_type": "code",
   "execution_count": null,
   "metadata": {},
   "outputs": [],
   "source": []
  },
  {
   "cell_type": "code",
   "execution_count": null,
   "metadata": {},
   "outputs": [],
   "source": []
  }
 ],
 "metadata": {
  "kernelspec": {
   "display_name": "Python 3",
   "language": "python",
   "name": "python3"
  },
  "language_info": {
   "codemirror_mode": {
    "name": "ipython",
    "version": 3
   },
   "file_extension": ".py",
   "mimetype": "text/x-python",
   "name": "python",
   "nbconvert_exporter": "python",
   "pygments_lexer": "ipython3",
   "version": "3.7.4"
  }
 },
 "nbformat": 4,
 "nbformat_minor": 2
}
