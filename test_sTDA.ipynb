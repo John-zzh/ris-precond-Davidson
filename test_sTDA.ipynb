{
 "cells": [
  {
   "cell_type": "code",
   "execution_count": 1,
   "metadata": {},
   "outputs": [],
   "source": [
    "import time\n",
    "import numpy as np\n",
    "from numpy import *\n",
    "import matplotlib.pylab as plt\n",
    "import operator\n",
    "import pyscf\n",
    "from pyscf import gto, scf, dft, tddft, data\n",
    "\n",
    "\n",
    "elements = ['H' , 'He', 'Li', 'Be', 'B' , 'C' , 'N' , 'O' , 'F' , 'Ne',\n",
    "    'Na', 'Mg', 'Al', 'Si', 'P' , 'S' , 'Cl', 'Ar', 'K' , 'Ca',\n",
    "    'Sc', 'Ti', 'V' , 'Cr', 'Mn', 'Fe', 'Co', 'Ni', 'Cu', 'Zn',\n",
    "    'Ga', 'Ge', 'As', 'Se', 'Br', 'Kr', 'Rb', 'Sr', 'Y' , 'Zr',\n",
    "    'Nb', 'Mo', 'Tc', 'Ru', 'Rh', 'Pd', 'Ag', 'Cd', 'In', 'Sn',\n",
    "    'Sb', 'Te', 'I' , 'Xe', 'Cs', 'Ba', 'La', 'Ce', 'Pr', 'Nd',\n",
    "    'Pm', 'Sm', 'Eu', 'Gd', 'Tb', 'Dy', 'Ho', 'Er', 'Tm', 'Yb',\n",
    "    'Lu', 'Hf', 'Ta', 'W' , 'Re', 'Os', 'Ir', 'Pt', 'Au', 'Hg',\n",
    "    'Tl', 'Pb', 'Bi', 'Po', 'At', 'Rn', 'Fr', 'Ra', 'Ac', 'Th',\n",
    "    'Pa', 'U' , 'Np', 'Pu'] \n",
    "hardness = [\n",
    "0.47259288,\n",
    "0.92203391,\n",
    "0.17452888,\n",
    "0.25700733,\n",
    "0.33949086,\n",
    "0.42195412,\n",
    "0.50438193,\n",
    "0.58691863,\n",
    "0.66931351,\n",
    "0.75191607,\n",
    "0.17964105,\n",
    "0.22157276,\n",
    "0.26348578,\n",
    "0.30539645,\n",
    "0.34734014,\n",
    "0.38924725,\n",
    "0.43115670,\n",
    "0.47308269,\n",
    "0.17105469,\n",
    "0.20276244,\n",
    "0.21007322,\n",
    "0.21739647,\n",
    "0.22471039,\n",
    "0.23201501,\n",
    "0.23933969,\n",
    "0.24665638,\n",
    "0.25398255,\n",
    "0.26128863,\n",
    "0.26859476,\n",
    "0.27592565,\n",
    "0.30762999,\n",
    "0.33931580,\n",
    "0.37235985,\n",
    "0.40273549,\n",
    "0.43445776,\n",
    "0.46611708,\n",
    "0.15585079,\n",
    "0.18649324,\n",
    "0.19356210,\n",
    "0.20063311,\n",
    "0.20770522,\n",
    "0.21477254,\n",
    "0.22184614,\n",
    "0.22891872,\n",
    "0.23598621,\n",
    "0.24305612,\n",
    "0.25013018,\n",
    "0.25719937,\n",
    "0.28784780,\n",
    "0.31848673,\n",
    "0.34912431,\n",
    "0.37976593,\n",
    "0.41040808,\n",
    "0.44105777,\n",
    "0.05019332,\n",
    "0.06762570,\n",
    "0.08504445,\n",
    "0.10247736,\n",
    "0.11991105,\n",
    "0.13732772,\n",
    "0.15476297,\n",
    "0.17218265,\n",
    "0.18961288,\n",
    "0.20704760,\n",
    "0.22446752,\n",
    "0.24189645,\n",
    "0.25932503,\n",
    "0.27676094,\n",
    "0.29418231,\n",
    "0.31159587,\n",
    "0.32902274,\n",
    "0.34592298,\n",
    "0.36388048,\n",
    "0.38130586,\n",
    "0.39877476,\n",
    "0.41614298,\n",
    "0.43364510,\n",
    "0.45104014,\n",
    "0.46848986,\n",
    "0.48584550,\n",
    "0.12526730,\n",
    "0.14268677,\n",
    "0.16011615,\n",
    "0.17755889,\n",
    "0.19497557,\n",
    "0.21240778,\n",
    "0.07263525,\n",
    "0.09422158,\n",
    "0.09920295,\n",
    "0.10418621,\n",
    "0.14235633,\n",
    "0.16394294,\n",
    "0.18551941,\n",
    "0.22370139]\n",
    "HARDNESS = dict(zip(elements,hardness))"
   ]
  },
  {
   "cell_type": "code",
   "execution_count": 2,
   "metadata": {},
   "outputs": [
    {
     "data": {
      "text/plain": [
       "<pyscf.gto.mole.Mole at 0x10dd954d0>"
      ]
     },
     "execution_count": 2,
     "metadata": {},
     "output_type": "execute_result"
    }
   ],
   "source": [
    "mol = gto.Mole()\n",
    "mol.build(atom = 'C         -4.89126        3.29770        0.00029;\\\n",
    "O         -3.49307        3.28429       -0.00328;\\\n",
    "H         -5.28213        2.58374        0.75736;\\\n",
    "H         -5.28213        3.05494       -1.01161;\\\n",
    "H         -5.23998        4.31540        0.27138;\\\n",
    "H         -3.22959        2.35981       -0.24953', basis = 'def2-SVP', symmetry = True)"
   ]
  },
  {
   "cell_type": "code",
   "execution_count": 3,
   "metadata": {},
   "outputs": [
    {
     "name": "stdout",
     "output_type": "stream",
     "text": [
      "converged SCF energy = -115.563857146133\n"
     ]
    },
    {
     "data": {
      "text/plain": [
       "-115.56385714613305"
      ]
     },
     "execution_count": 3,
     "metadata": {},
     "output_type": "execute_result"
    }
   ],
   "source": [
    "mf = dft.RKS(mol) #mf is ground density?\n",
    "mf.xc = 'b3lyp'\n",
    "mf.kernel()  #single point energy"
   ]
  },
  {
   "cell_type": "code",
   "execution_count": 4,
   "metadata": {},
   "outputs": [
    {
     "name": "stdout",
     "output_type": "stream",
     "text": [
      "Excited State energies (eV)\n",
      "[6.96889373 8.53566816 8.83822488]\n",
      "Pyscf time = 1.9581\n"
     ]
    }
   ],
   "source": [
    "td = tddft.TDA(mf)\n",
    "start = time.time()\n",
    "td.kernel()    #compute first few excited states.\n",
    "end = time.time()\n",
    "print ('Pyscf time =', round(end-start,4))"
   ]
  },
  {
   "cell_type": "code",
   "execution_count": 5,
   "metadata": {},
   "outputs": [],
   "source": [
    "#print (mol.atom_pure_symbol(0))\n",
    "#to return pure element symbol only, no special characters\n"
   ]
  },
  {
   "cell_type": "code",
   "execution_count": 6,
   "metadata": {},
   "outputs": [],
   "source": [
    "AO = [int(i.split(' ',1)[0]) for i in mol.ao_labels()] \n",
    "# .split(' ',1) is to split each element by space, split once.\n",
    "# mol.ao_labels() it is a list of all AOs and corresponding atom_id, AO is a list of atom_id\n",
    "#[0, 0, 0, 0, 0, 0, 0, 0, 0, 0, 0, 0, 0, 0, 1, 1, 1, 1, 1, 2, 2, 2, 2, 2]\n",
    "\n",
    "\n",
    "N_bf = len(AO)\n",
    "#print (AO) "
   ]
  },
  {
   "cell_type": "code",
   "execution_count": 7,
   "metadata": {},
   "outputs": [
    {
     "name": "stdout",
     "output_type": "stream",
     "text": [
      "**** MO energy ****\n",
      "MO #1   energy= -19.1200324123506  occ= 2\n",
      "MO #2   energy= -10.2252892508138  occ= 2\n",
      "MO #3   energy= -0.996544273142557 occ= 2\n",
      "MO #4   energy= -0.660100764764333 occ= 2\n",
      "MO #5   energy= -0.496015099528159 occ= 2\n",
      "MO #6   energy= -0.436583016160302 occ= 2\n",
      "MO #7   energy= -0.419080869175707 occ= 2\n",
      "MO #8   energy= -0.322613679629768 occ= 2\n",
      "MO #9   energy= -0.260987023013519 occ= 2\n",
      "MO #10  energy= 0.0491987569097194 occ= 0\n",
      "MO #11  energy= 0.0955676579759379 occ= 0\n",
      "MO #12  energy= 0.136354007772245  occ= 0\n",
      "MO #13  energy= 0.137422148427963  occ= 0\n",
      "MO #14  energy= 0.199507012847126  occ= 0\n",
      "MO #15  energy= 0.456676295338883  occ= 0\n",
      "MO #16  energy= 0.474166717305126  occ= 0\n",
      "MO #17  energy= 0.482367706435018  occ= 0\n",
      "MO #18  energy= 0.576508839274188  occ= 0\n",
      "MO #19  energy= 0.640994230104463  occ= 0\n",
      "MO #20  energy= 0.650993561200111  occ= 0\n",
      "MO #21  energy= 0.665496401138703  occ= 0\n",
      "MO #22  energy= 0.706068427674609  occ= 0\n",
      "MO #23  energy= 0.952204686143727  occ= 0\n",
      "MO #24  energy= 0.954675559287178  occ= 0\n",
      "MO #25  energy= 1.01585023379413   occ= 0\n",
      "MO #26  energy= 1.22492843373347   occ= 0\n",
      "MO #27  energy= 1.30301956398127   occ= 0\n",
      "MO #28  energy= 1.44829121954594   occ= 0\n",
      "MO #29  energy= 1.47011956912673   occ= 0\n",
      "MO #30  energy= 1.51591190538122   occ= 0\n",
      "MO #31  energy= 1.55197573491234   occ= 0\n",
      "MO #32  energy= 1.70485767687163   occ= 0\n",
      "MO #33  energy= 1.75876326847618   occ= 0\n",
      "MO #34  energy= 1.81580177258862   occ= 0\n",
      "MO #35  energy= 1.87562740601403   occ= 0\n",
      "MO #36  energy= 1.97706305622553   occ= 0\n",
      "MO #37  energy= 2.13657649763937   occ= 0\n",
      "MO #38  energy= 2.19881886955122   occ= 0\n",
      "MO #39  energy= 2.32003953039687   occ= 0\n",
      "MO #40  energy= 2.35452919357724   occ= 0\n",
      "MO #41  energy= 2.63729836804583   occ= 0\n",
      "MO #42  energy= 2.78563915751749   occ= 0\n",
      "MO #43  energy= 2.81228159393504   occ= 0\n",
      "MO #44  energy= 2.94690668113977   occ= 0\n",
      "MO #45  energy= 3.06289070996804   occ= 0\n",
      "MO #46  energy= 3.16822819606318   occ= 0\n",
      "MO #47  energy= 3.30309822741082   occ= 0\n",
      "MO #48  energy= 3.72942994127178   occ= 0\n",
      " ** Mulliken atomic charges  **\n",
      "charge of  0C =     -0.05201\n",
      "charge of  1O =     -0.49339\n",
      "charge of  2H =      0.07263\n",
      "charge of  3H =      0.07263\n",
      "charge of  4H =      0.09956\n",
      "charge of  5H =      0.30058\n",
      "Dipole moment(X, Y, Z, Debye): -0.84718, -1.36452, -0.36347\n",
      "9 39 48\n"
     ]
    }
   ],
   "source": [
    "mf.analyze()\n",
    "##MO energies\n",
    "Natm = mol.natm #number of atoms\n",
    "MOe = mf.mo_energy #an array of MO energies\n",
    "\n",
    "\n",
    "occupied = len(np.where(mf.mo_occ==2)[0])\n",
    "#mf.mo_occ is an array of occupance [2,2,2,2,2,0,0,0,0.....]\n",
    "virtual = N_bf - occupied\n",
    "print (occupied, virtual, N_bf)\n"
   ]
  },
  {
   "cell_type": "code",
   "execution_count": 8,
   "metadata": {},
   "outputs": [],
   "source": [
    "#mf.mulliken_pop_meta_lowdin_ao()\n",
    "#population analysis"
   ]
  },
  {
   "cell_type": "code",
   "execution_count": 9,
   "metadata": {},
   "outputs": [],
   "source": [
    "#nocc = mol.nelectron \n",
    "# mol.nelectron is number of electrons, not necessary the number of MOs\n",
    "\n",
    "#C = pyscf.lo.orth.orth_ao(mol, method = 'lowdin')\n",
    "\n",
    "C = mf.mo_coeff \n",
    "# mf.mo_coeff is the coefficient matrix\n",
    "\n",
    "\n",
    "S = np.dot(np.linalg.inv(C.T), np.linalg.inv(C))\n",
    "\n",
    "#S = mf.get_ovlp() #.get_ovlp()  is not basis overlap matrix\n",
    "\n",
    "# print (np.linalg.norm(S1-S2))\n",
    "\n",
    "s,ket = np.linalg.eig(S)\n",
    "#s are eigenvalues, must be all positive\n",
    "#each column of ket is a eigenket\n",
    "#print (s)\n",
    "s = s**0.5\n",
    "X = np.linalg.multi_dot([ket,np.diag(s),ket.T])\n",
    "#X == S^1/2\n",
    "\n",
    "C = np.dot(X,C)\n",
    "# #now C is orthogonzalized\n",
    "# print (np.round(C,2))\n"
   ]
  },
  {
   "cell_type": "code",
   "execution_count": 10,
   "metadata": {},
   "outputs": [],
   "source": [
    "def generateQ (atom_id):\n",
    "    q = np.zeros([N_bf, N_bf])\n",
    "    #q is same size with C\n",
    "    for i in range (0, N_bf):\n",
    "        for p in range (0, N_bf):\n",
    "            #for a certain element q[i,p]\n",
    "            #first two loops is to iterate all ith and pth column of C\n",
    "            for mu in AO: \n",
    "                # the last loop is to sum up all C_mui*C_mup, calculate element q[i,p]\n",
    "                if mu == atom_id:\n",
    "                    q[i,p] += C[mu,i]*C[mu,p]\n",
    "    return q\n",
    "\n",
    "Qmatrix = [(generateQ(atom_id)) for atom_id in range (0, Natm)]\n",
    "#a list of q matrix\n",
    "\n",
    "# plt.matshow(q_atom_0)\n",
    "# plt.show()\n",
    "\n",
    "#print (np.round(q_atom_0.diagonal(),2))\n",
    "#print (np.round(q_atom_0,2))\n",
    "\n"
   ]
  },
  {
   "cell_type": "code",
   "execution_count": 11,
   "metadata": {},
   "outputs": [
    {
     "name": "stdout",
     "output_type": "stream",
     "text": [
      "0.6575 1.54\n"
     ]
    }
   ],
   "source": [
    "a_x = 0.25\n",
    "\n",
    "beta1=0.2\n",
    "beta2=1.83\n",
    "\n",
    "alpha1=1.42\n",
    "alpha2=0.48\n",
    "\n",
    "beta = beta1 + beta2 * a_x\n",
    "alpha = alpha1 + alpha2 * a_x\n",
    "\n",
    "print (beta, alpha)"
   ]
  },
  {
   "cell_type": "code",
   "execution_count": 37,
   "metadata": {},
   "outputs": [],
   "source": [
    "#function to return distance between two atoms\n",
    "R = pyscf.gto.mole.inter_distance(mol, coords=None) #Inter-particle distance array\n",
    "#   distance = R [atom_A_id, atom_B_id]\n",
    "#     a = mol.atom_coord(atom_A_id) #coordinates of atom A\n",
    "#     b = mol.atom_coord(atom_B_id) #coordinates of atom B\n",
    "#     distance = np.linalg.norm (a - b)\n",
    "    \n",
    "#(mol.atom_coord(atom_id)) is to return the coordinates of a certain atom, it is a ndarray"
   ]
  },
  {
   "cell_type": "code",
   "execution_count": 13,
   "metadata": {},
   "outputs": [],
   "source": [
    "#function to return chemical hardness from dictionary HARDNESS\n",
    "def Hardness (atom_id):\n",
    "    atom = mol.atom_pure_symbol(atom_id) \n",
    "    #the symbol of atom looked at\n",
    "    return HARDNESS[atom]\n",
    "# print (Hardness (1))\n",
    "# print (Hardness (0))"
   ]
  },
  {
   "cell_type": "code",
   "execution_count": 14,
   "metadata": {},
   "outputs": [],
   "source": [
    "def eta (atom_A_id, atom_B_id):\n",
    "    eta = (Hardness(atom_A_id) + Hardness(atom_B_id))/2\n",
    "    return eta\n",
    "#eta(0,1)"
   ]
  },
  {
   "cell_type": "code",
   "execution_count": 15,
   "metadata": {},
   "outputs": [],
   "source": [
    "def gammaJ(atom_A_id, atom_B_id):\n",
    "    gamma_A_B_J = (1/(R[atom_A_id, atom_B_id]**beta + (a_x*eta(atom_A_id, atom_B_id))**(-beta)))**(1/beta)\n",
    "    return gamma_A_B_J\n",
    "#gammaJ (2,1)"
   ]
  },
  {
   "cell_type": "code",
   "execution_count": 16,
   "metadata": {},
   "outputs": [],
   "source": [
    "def gammaK(atom_A_id, atom_B_id):\n",
    "    gamma_A_B_K = (1/(R[atom_A_id, atom_B_id]**alpha \\\n",
    "                   + eta(atom_A_id, atom_B_id)**(-alpha)))\\\n",
    "                    **(1/alpha)\n",
    "    return gamma_A_B_K\n",
    "#gammaK (2,1)"
   ]
  },
  {
   "cell_type": "code",
   "execution_count": 17,
   "metadata": {},
   "outputs": [
    {
     "data": {
      "text/plain": [
       "0.0003969393899576694"
      ]
     },
     "execution_count": 17,
     "metadata": {},
     "output_type": "execute_result"
    }
   ],
   "source": [
    "#define two electron intergeral (pq|rs)\n",
    "def ele_int (p,q,r,s):\n",
    "    pqrs = 0\n",
    "    if q <= occupied:\n",
    "        for atom_A_id in range (0, Natm):\n",
    "            for atom_B_id in range (0, Natm):\n",
    "                pqrs += Qmatrix[atom_A_id][p,q] * Qmatrix[atom_B_id][r,s] * gammaJ(atom_A_id, atom_B_id)\n",
    "                #(ij|ab)\n",
    "    else:\n",
    "        for atom_A_id in range (0, Natm):\n",
    "            for atom_B_id in range (0, Natm):\n",
    "                pqrs += Qmatrix[atom_A_id][p,q] * Qmatrix[atom_B_id][r,s] * gammaK(atom_A_id, atom_B_id)\n",
    "                #(ia|jb)\n",
    "    return pqrs"
   ]
  },
  {
   "cell_type": "code",
   "execution_count": 18,
   "metadata": {},
   "outputs": [
    {
     "data": {
      "text/plain": [
       "0"
      ]
     },
     "execution_count": 18,
     "metadata": {},
     "output_type": "execute_result"
    }
   ],
   "source": [
    "def delta (a, b):\n",
    "    if a == b:\n",
    "        return 1\n",
    "    else:\n",
    "        return 0\n",
    "delta(4,2)"
   ]
  },
  {
   "cell_type": "code",
   "execution_count": 19,
   "metadata": {},
   "outputs": [
    {
     "data": {
      "text/plain": [
       "(351, 351)"
      ]
     },
     "execution_count": 19,
     "metadata": {},
     "output_type": "execute_result"
    }
   ],
   "source": [
    "A = np.zeros ([occupied*virtual, occupied*virtual])\n",
    "np.shape(A)"
   ]
  },
  {
   "cell_type": "code",
   "execution_count": 20,
   "metadata": {},
   "outputs": [
    {
     "name": "stdout",
     "output_type": "stream",
     "text": [
      "350 350\n"
     ]
    }
   ],
   "source": [
    "#build A matrix\n",
    "m = -1\n",
    "for i in range (0, occupied):\n",
    "    for a in range (occupied, N_bf):\n",
    "        m += 1 \n",
    "        #for each occupied-virtial orbital combination, it corresponds to a certain row\n",
    "        n = -1\n",
    "        for j in range (0, occupied):\n",
    "            for b in range (occupied, N_bf):\n",
    "                n +=1\n",
    "            #for each occupied-virtial orbital combination, it corresponds to a certain column\n",
    "                A[m,n] = delta(i,j) * delta(a,b) * (MOe[a] - MOe[i]) \\\n",
    "                            + 2 * ele_int(i,a,j,b) - ele_int(i,j,a,b)\n",
    "print (m,n)"
   ]
  },
  {
   "cell_type": "code",
   "execution_count": 64,
   "metadata": {},
   "outputs": [
    {
     "name": "stdout",
     "output_type": "stream",
     "text": [
      "False\n"
     ]
    }
   ],
   "source": [
    "#check whether A is symmetric\n",
    "def check_symmetric(a, tol=1e-8):\n",
    "    return np.all(np.abs(a-a.T) < tol)\n",
    "print (check_symmetric(A, tol=1e-8))"
   ]
  },
  {
   "cell_type": "code",
   "execution_count": 65,
   "metadata": {},
   "outputs": [
    {
     "data": {
      "image/png": "[encoded data removed]",
      "text/plain": [
       "<Figure size 288x288 with 1 Axes>"
      ]
     },
     "metadata": {
      "needs_background": "light"
     },
     "output_type": "display_data"
    }
   ],
   "source": [
    "plt.matshow(A)\n",
    "plt.show()"
   ]
  },
  {
   "cell_type": "code",
   "execution_count": 66,
   "metadata": {},
   "outputs": [],
   "source": [
    "eigv,eigk = np.linalg.eigh(A)\n",
    "#eigh guarantees you that the eigenvalues are sorted and uses a faster algorithm \n",
    "#that takes advantage of the fact that the matrix is symmetric. "
   ]
  },
  {
   "cell_type": "code",
   "execution_count": 67,
   "metadata": {},
   "outputs": [
    {
     "name": "stdout",
     "output_type": "stream",
     "text": [
      "[-1.86685485e-05 -2.02331785e-06 -5.04449954e-07  3.32621239e-07\n",
      "  1.09018355e-06]\n"
     ]
    }
   ],
   "source": [
    "print (eigv[:5]*27.21138624598853)\n",
    "# ':n', first n elements; 'n:' all elements except firt n "
   ]
  },
  {
   "cell_type": "code",
   "execution_count": 68,
   "metadata": {},
   "outputs": [
    {
     "name": "stdout",
     "output_type": "stream",
     "text": [
      "size of A_TDA is 351\n"
     ]
    },
    {
     "data": {
      "image/png": "[encoded data removed]",
      "text/plain": [
       "<Figure size 288x288 with 1 Axes>"
      ]
     },
     "metadata": {
      "needs_background": "light"
     },
     "output_type": "display_data"
    }
   ],
   "source": [
    "#this block is to reprocude the TDA A matrix\n",
    "vind, hdiag = td.gen_vind(mf)\n",
    "n = len(hdiag)\n",
    "print ('size of A_TDA is', n)\n",
    "A_TDA = np.zeros((n,n))\n",
    "I = np.eye(n)\n",
    "for i in range (0,n):\n",
    "    A_TDA[:,i] = vind (I[:,i])\n",
    "\n",
    "plt.matshow(A_TDA)\n",
    "plt.show() #visualize the matrix\n",
    "\n",
    "# the true A matrix in TAD"
   ]
  },
  {
   "cell_type": "code",
   "execution_count": 56,
   "metadata": {},
   "outputs": [],
   "source": [
    "a,b = np.linalg.eigh(A_TDA) \n",
    "# to ensure A_TDA is the A matrix in TDA, eigenvalues are same with results solved by build-in methods"
   ]
  },
  {
   "cell_type": "code",
   "execution_count": 57,
   "metadata": {},
   "outputs": [
    {
     "name": "stdout",
     "output_type": "stream",
     "text": [
      "[6.96889379 8.53566823 8.83822495 9.56991212 9.7916805 ]\n"
     ]
    }
   ],
   "source": [
    "print (a[:5]*27.21138624598853)"
   ]
  },
  {
   "cell_type": "code",
   "execution_count": 58,
   "metadata": {},
   "outputs": [],
   "source": [
    "# Excited State energies (eV)\n",
    "# [6.96889373 8.53566816 8.83822488]"
   ]
  },
  {
   "cell_type": "code",
   "execution_count": null,
   "metadata": {},
   "outputs": [],
   "source": []
  },
  {
   "cell_type": "code",
   "execution_count": null,
   "metadata": {},
   "outputs": [],
   "source": []
  },
  {
   "cell_type": "code",
   "execution_count": null,
   "metadata": {},
   "outputs": [],
   "source": []
  },
  {
   "cell_type": "code",
   "execution_count": null,
   "metadata": {},
   "outputs": [],
   "source": []
  },
  {
   "cell_type": "code",
   "execution_count": null,
   "metadata": {},
   "outputs": [],
   "source": []
  },
  {
   "cell_type": "code",
   "execution_count": null,
   "metadata": {},
   "outputs": [],
   "source": []
  }
 ],
 "metadata": {
  "kernelspec": {
   "display_name": "Python 3",
   "language": "python",
   "name": "python3"
  },
  "language_info": {
   "codemirror_mode": {
    "name": "ipython",
    "version": 3
   },
   "file_extension": ".py",
   "mimetype": "text/x-python",
   "name": "python",
   "nbconvert_exporter": "python",
   "pygments_lexer": "ipython3",
   "version": "3.7.4"
  }
 },
 "nbformat": 4,
 "nbformat_minor": 2
}
