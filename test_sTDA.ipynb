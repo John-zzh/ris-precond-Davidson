{
 "cells": [
  {
   "cell_type": "code",
   "execution_count": 1,
   "metadata": {},
   "outputs": [],
   "source": [
    "import time\n",
    "import numpy as np\n",
    "from numpy import *\n",
    "import matplotlib.pylab as plt\n",
    "import operator\n",
    "import pyscf\n",
    "from pyscf import gto, scf, dft, tddft, data\n",
    "#np.set_printoptions (linewidth=300)\n",
    "\n",
    "elements = ['H' , 'He', 'Li', 'Be', 'B' , 'C' , 'N' , 'O' , 'F' , 'Ne',\n",
    "    'Na', 'Mg', 'Al', 'Si', 'P' , 'S' , 'Cl', 'Ar', 'K' , 'Ca',\n",
    "    'Sc', 'Ti', 'V' , 'Cr', 'Mn', 'Fe', 'Co', 'Ni', 'Cu', 'Zn',\n",
    "    'Ga', 'Ge', 'As', 'Se', 'Br', 'Kr', 'Rb', 'Sr', 'Y' , 'Zr',\n",
    "    'Nb', 'Mo', 'Tc', 'Ru', 'Rh', 'Pd', 'Ag', 'Cd', 'In', 'Sn',\n",
    "    'Sb', 'Te', 'I' , 'Xe', 'Cs', 'Ba', 'La', 'Ce', 'Pr', 'Nd',\n",
    "    'Pm', 'Sm', 'Eu', 'Gd', 'Tb', 'Dy', 'Ho', 'Er', 'Tm', 'Yb',\n",
    "    'Lu', 'Hf', 'Ta', 'W' , 'Re', 'Os', 'Ir', 'Pt', 'Au', 'Hg',\n",
    "    'Tl', 'Pb', 'Bi', 'Po', 'At', 'Rn', 'Fr', 'Ra', 'Ac', 'Th',\n",
    "    'Pa', 'U' , 'Np', 'Pu'] \n",
    "hardness = [\n",
    "0.47259288,\n",
    "0.92203391,\n",
    "0.17452888,\n",
    "0.25700733,\n",
    "0.33949086,\n",
    "0.42195412,\n",
    "0.50438193,\n",
    "0.58691863,\n",
    "0.66931351,\n",
    "0.75191607,\n",
    "0.17964105,\n",
    "0.22157276,\n",
    "0.26348578,\n",
    "0.30539645,\n",
    "0.34734014,\n",
    "0.38924725,\n",
    "0.43115670,\n",
    "0.47308269,\n",
    "0.17105469,\n",
    "0.20276244,\n",
    "0.21007322,\n",
    "0.21739647,\n",
    "0.22471039,\n",
    "0.23201501,\n",
    "0.23933969,\n",
    "0.24665638,\n",
    "0.25398255,\n",
    "0.26128863,\n",
    "0.26859476,\n",
    "0.27592565,\n",
    "0.30762999,\n",
    "0.33931580,\n",
    "0.37235985,\n",
    "0.40273549,\n",
    "0.43445776,\n",
    "0.46611708,\n",
    "0.15585079,\n",
    "0.18649324,\n",
    "0.19356210,\n",
    "0.20063311,\n",
    "0.20770522,\n",
    "0.21477254,\n",
    "0.22184614,\n",
    "0.22891872,\n",
    "0.23598621,\n",
    "0.24305612,\n",
    "0.25013018,\n",
    "0.25719937,\n",
    "0.28784780,\n",
    "0.31848673,\n",
    "0.34912431,\n",
    "0.37976593,\n",
    "0.41040808,\n",
    "0.44105777,\n",
    "0.05019332,\n",
    "0.06762570,\n",
    "0.08504445,\n",
    "0.10247736,\n",
    "0.11991105,\n",
    "0.13732772,\n",
    "0.15476297,\n",
    "0.17218265,\n",
    "0.18961288,\n",
    "0.20704760,\n",
    "0.22446752,\n",
    "0.24189645,\n",
    "0.25932503,\n",
    "0.27676094,\n",
    "0.29418231,\n",
    "0.31159587,\n",
    "0.32902274,\n",
    "0.34592298,\n",
    "0.36388048,\n",
    "0.38130586,\n",
    "0.39877476,\n",
    "0.41614298,\n",
    "0.43364510,\n",
    "0.45104014,\n",
    "0.46848986,\n",
    "0.48584550,\n",
    "0.12526730,\n",
    "0.14268677,\n",
    "0.16011615,\n",
    "0.17755889,\n",
    "0.19497557,\n",
    "0.21240778,\n",
    "0.07263525,\n",
    "0.09422158,\n",
    "0.09920295,\n",
    "0.10418621,\n",
    "0.14235633,\n",
    "0.16394294,\n",
    "0.18551941,\n",
    "0.22370139]\n",
    "#in Hartree\n",
    "HARDNESS = dict(zip(elements,hardness))"
   ]
  },
  {
   "cell_type": "code",
   "execution_count": 2,
   "metadata": {},
   "outputs": [
    {
     "data": {
      "text/plain": [
       "<pyscf.gto.mole.Mole at 0x7fbe4a62be10>"
      ]
     },
     "execution_count": 2,
     "metadata": {},
     "output_type": "execute_result"
    }
   ],
   "source": [
    "mol = gto.Mole()\n",
    "mol.build(atom = '\\\n",
    "C         -4.89126        3.29770        0.00029;\\\n",
    "O         -3.49307        3.28429       -0.00328;\\\n",
    "H         -5.28213        2.58374        0.75736;\\\n",
    "H         -5.28213        3.05494       -1.01161;\\\n",
    "H         -5.23998        4.31540        0.27138;\\\n",
    "H         -3.22959        2.35981       -0.24953',\\\n",
    "basis = 'def2-SVP')"
   ]
  },
  {
   "cell_type": "code",
   "execution_count": 3,
   "metadata": {},
   "outputs": [],
   "source": [
    "# mol = gto.Mole()\n",
    "# mol.build(atom = 'O         -4.89126        3.29770        0.00029;\\\n",
    "# H         -3.49307        3.28429       -0.00328;\\\n",
    "# H         -5.28213        2.58374        0.75736', basis = 'def2-SVP', symmetry = True)"
   ]
  },
  {
   "cell_type": "code",
   "execution_count": 4,
   "metadata": {},
   "outputs": [],
   "source": [
    "# mol = gto.Mole()\n",
    "# mol.build(atom = '\\\n",
    "# C         -1.44673        2.80824       -0.07813;\\\n",
    "# O         -1.78998        3.80792       -0.69188;\\\n",
    "# N         -1.18291        1.66325       -0.74926;\\\n",
    "# N         -1.33221        2.85136        1.26946;\\\n",
    "# H         -1.53168        3.72026        1.78651;\\\n",
    "# H         -1.04365        2.01512        1.79805;\\\n",
    "# H         -1.26824        1.62382       -1.77554;\\\n",
    "# H         -0.89270        0.81388       -0.24298'\\\n",
    "# , basis = 'def2-SVP', symmetry = True)"
   ]
  },
  {
   "cell_type": "code",
   "execution_count": 5,
   "metadata": {},
   "outputs": [],
   "source": [
    "# mf = dft.RKS(mol) \n",
    "# mf.conv_tol = 1e-12\n",
    "# mf.grids.level = 9     # 0-9, big number for large mesh grids, default is 3\n",
    "# mf.xc = 'b3lyp'\n",
    "# mf.kernel()  #single point energy"
   ]
  },
  {
   "cell_type": "code",
   "execution_count": 6,
   "metadata": {},
   "outputs": [
    {
     "name": "stdout",
     "output_type": "stream",
     "text": [
      "converged SCF energy = -115.576159894913\n"
     ]
    },
    {
     "data": {
      "text/plain": [
       "-115.57615989491322"
      ]
     },
     "execution_count": 6,
     "metadata": {},
     "output_type": "execute_result"
    }
   ],
   "source": [
    "mf = dft.RKS(mol) \n",
    "mf.conv_tol = 1e-12\n",
    "mf.grids.level = 9     # 0-9, big number for large mesh grids, default is 3\n",
    "mf.xc = 'cam-b3lyp'\n",
    "mf.kernel()  #single point energy\n",
    "\n",
    "#ORCA: FINAL SINGLE POINT ENERGY = -115.576160742154\n",
    "#Turbomole: total energy      =    -115.57615989622"
   ]
  },
  {
   "cell_type": "code",
   "execution_count": 7,
   "metadata": {},
   "outputs": [],
   "source": [
    "# mf = scf.RHF(mol) \n",
    "# mf.conv_tol = 1e-13\n",
    "# mf.kernel()  #single point energy"
   ]
  },
  {
   "cell_type": "code",
   "execution_count": 8,
   "metadata": {},
   "outputs": [],
   "source": [
    "# CIS = pyscf.tdscf.rhf.CIS(mf)\n",
    "# CIS.nstates = 5\n",
    "# CIS.kernel()"
   ]
  },
  {
   "cell_type": "code",
   "execution_count": 9,
   "metadata": {},
   "outputs": [],
   "source": [
    "# td = tddft.TDA(mf)\n",
    "# start = time.time()\n",
    "# td.kernel()    #compute first few excited states.\n",
    "# end = time.time()\n",
    "# print ('Pyscf time =', round(end-start,4))"
   ]
  },
  {
   "cell_type": "code",
   "execution_count": 10,
   "metadata": {},
   "outputs": [],
   "source": [
    "#print (mol.atom_coords())\n",
    "#array for the coordinates (in Bohr) of each atom 1 Bohr = 0.529177 Angstrom\n",
    "#print (mol.unit)"
   ]
  },
  {
   "cell_type": "code",
   "execution_count": 11,
   "metadata": {},
   "outputs": [
    {
     "data": {
      "text/plain": [
       "['0 C 1s    ',\n",
       " '0 C 2s    ',\n",
       " '0 C 3s    ',\n",
       " '0 C 2px   ',\n",
       " '0 C 2py   ',\n",
       " '0 C 2pz   ',\n",
       " '0 C 3px   ',\n",
       " '0 C 3py   ',\n",
       " '0 C 3pz   ',\n",
       " '0 C 3dxy  ',\n",
       " '0 C 3dyz  ',\n",
       " '0 C 3dz^2 ',\n",
       " '0 C 3dxz  ',\n",
       " '0 C 3dx2-y2',\n",
       " '1 O 1s    ',\n",
       " '1 O 2s    ',\n",
       " '1 O 3s    ',\n",
       " '1 O 2px   ',\n",
       " '1 O 2py   ',\n",
       " '1 O 2pz   ',\n",
       " '1 O 3px   ',\n",
       " '1 O 3py   ',\n",
       " '1 O 3pz   ',\n",
       " '1 O 3dxy  ',\n",
       " '1 O 3dyz  ',\n",
       " '1 O 3dz^2 ',\n",
       " '1 O 3dxz  ',\n",
       " '1 O 3dx2-y2',\n",
       " '2 H 1s    ',\n",
       " '2 H 2s    ',\n",
       " '2 H 2px   ',\n",
       " '2 H 2py   ',\n",
       " '2 H 2pz   ',\n",
       " '3 H 1s    ',\n",
       " '3 H 2s    ',\n",
       " '3 H 2px   ',\n",
       " '3 H 2py   ',\n",
       " '3 H 2pz   ',\n",
       " '4 H 1s    ',\n",
       " '4 H 2s    ',\n",
       " '4 H 2px   ',\n",
       " '4 H 2py   ',\n",
       " '4 H 2pz   ',\n",
       " '5 H 1s    ',\n",
       " '5 H 2s    ',\n",
       " '5 H 2px   ',\n",
       " '5 H 2py   ',\n",
       " '5 H 2pz   ']"
      ]
     },
     "execution_count": 11,
     "metadata": {},
     "output_type": "execute_result"
    }
   ],
   "source": [
    "mol.ao_labels()"
   ]
  },
  {
   "cell_type": "code",
   "execution_count": 12,
   "metadata": {},
   "outputs": [
    {
     "name": "stdout",
     "output_type": "stream",
     "text": [
      "Number of AOs = 48\n"
     ]
    }
   ],
   "source": [
    "AO = [int(i.split(' ',1)[0]) for i in mol.ao_labels()] \n",
    "# .split(' ',1) is to split each element by space, split once.\n",
    "# mol.ao_labels() it is Labels of AO basis functions, AO is a list of corresponding atom_id\n",
    "# AO == [0, 0, 0, 0, 0, 0, 0, 0, 0, 0, 0, 0, 0, 0, 1, 1, 1, 1, 1, 2, 2, 2, 2, 2]\n",
    "\n",
    "N_bf = len(AO)\n",
    "#print (AO) \n",
    "print ('Number of AOs =', N_bf)"
   ]
  },
  {
   "cell_type": "code",
   "execution_count": 13,
   "metadata": {},
   "outputs": [
    {
     "name": "stdout",
     "output_type": "stream",
     "text": [
      "**** MO energy ****\n",
      "MO #1   energy= -19.1952561270171  occ= 2\n",
      "MO #2   energy= -10.3010530904295  occ= 2\n",
      "MO #3   energy= -1.07886778616714  occ= 2\n",
      "MO #4   energy= -0.73996126856522  occ= 2\n",
      "MO #5   energy= -0.567432132162965 occ= 2\n",
      "MO #6   energy= -0.5087403521188   occ= 2\n",
      "MO #7   energy= -0.489011243627256 occ= 2\n",
      "MO #8   energy= -0.38983000078517  occ= 2\n",
      "MO #9   energy= -0.32963505042571  occ= 2\n",
      "MO #10  energy= 0.0931164613349232 occ= 0\n",
      "MO #11  energy= 0.139419598372696  occ= 0\n",
      "MO #12  energy= 0.181166706809678  occ= 0\n",
      "MO #13  energy= 0.182831010635641  occ= 0\n",
      "MO #14  energy= 0.251599145722025  occ= 0\n",
      "MO #15  energy= 0.511964195510831  occ= 0\n",
      "MO #16  energy= 0.528996546419146  occ= 0\n",
      "MO #17  energy= 0.540181611595554  occ= 0\n",
      "MO #18  energy= 0.636931978034218  occ= 0\n",
      "MO #19  energy= 0.699381613550386  occ= 0\n",
      "MO #20  energy= 0.710210214191175  occ= 0\n",
      "MO #21  energy= 0.726442574320819  occ= 0\n",
      "MO #22  energy= 0.765726116384927  occ= 0\n",
      "MO #23  energy= 1.01683121616566   occ= 0\n",
      "MO #24  energy= 1.0203486598927    occ= 0\n",
      "MO #25  energy= 1.07808281432669   occ= 0\n",
      "MO #26  energy= 1.29163608469683   occ= 0\n",
      "MO #27  energy= 1.36838019274065   occ= 0\n",
      "MO #28  energy= 1.51405946735733   occ= 0\n",
      "MO #29  energy= 1.53789684609214   occ= 0\n",
      "MO #30  energy= 1.58636731949081   occ= 0\n",
      "MO #31  energy= 1.61885950894346   occ= 0\n",
      "MO #32  energy= 1.77356576163698   occ= 0\n",
      "MO #33  energy= 1.82729433576389   occ= 0\n",
      "MO #34  energy= 1.88465627044665   occ= 0\n",
      "MO #35  energy= 1.94655871434948   occ= 0\n",
      "MO #36  energy= 2.04683330176675   occ= 0\n",
      "MO #37  energy= 2.20827949815409   occ= 0\n",
      "MO #38  energy= 2.270068904977     occ= 0\n",
      "MO #39  energy= 2.39116936110087   occ= 0\n",
      "MO #40  energy= 2.42591518524116   occ= 0\n",
      "MO #41  energy= 2.71009171317271   occ= 0\n",
      "MO #42  energy= 2.85769660855996   occ= 0\n",
      "MO #43  energy= 2.88427221518779   occ= 0\n",
      "MO #44  energy= 3.02217151190658   occ= 0\n",
      "MO #45  energy= 3.13755432155377   occ= 0\n",
      "MO #46  energy= 3.24272814367433   occ= 0\n",
      "MO #47  energy= 3.37780841643438   occ= 0\n",
      "MO #48  energy= 3.80402000503651   occ= 0\n",
      " ** Mulliken atomic charges  **\n",
      "charge of  0C =     -0.05577\n",
      "charge of  1O =     -0.49733\n",
      "charge of  2H =      0.07491\n",
      "charge of  3H =      0.07491\n",
      "charge of  4H =      0.10145\n",
      "charge of  5H =      0.30183\n",
      "Dipole moment(X, Y, Z, Debye): -0.89473, -1.39215, -0.37083\n"
     ]
    },
    {
     "data": {
      "text/plain": [
       "((array([1.99985335e+00, 9.93500412e-01, 5.33335187e-03, 7.92360566e-01,\n",
       "         1.12785755e+00, 1.10710106e+00, 8.58049969e-03, 5.25718176e-03,\n",
       "         6.70895371e-03, 1.39553017e-03, 1.10079542e-03, 1.59722790e-03,\n",
       "         2.46742305e-03, 2.65222708e-03, 1.99993301e+00, 1.62054232e+00,\n",
       "         5.19239327e-03, 1.39154442e+00, 1.53619124e+00, 1.92498858e+00,\n",
       "         4.51671731e-03, 3.86529652e-03, 3.28767840e-03, 9.00137431e-04,\n",
       "         1.17810146e-03, 1.61378931e-03, 5.74724620e-04, 3.00241388e-03,\n",
       "         9.17452607e-01, 6.25006019e-03, 2.63304643e-04, 4.86256474e-04,\n",
       "         6.41787291e-04, 9.17449723e-01, 6.25035381e-03, 2.63309126e-04,\n",
       "         6.83845688e-05, 1.05968086e-03, 8.90121385e-01, 7.16964601e-03,\n",
       "         1.39872182e-04, 1.01026545e-03, 1.04696133e-04, 6.83239269e-01,\n",
       "         1.05064846e-02, 1.03895483e-03, 1.53260502e-03, 1.85439882e-03]),\n",
       "  array([-0.05576613, -0.49733083,  0.07490598,  0.07490855,  0.10145414,\n",
       "          0.30182829])),\n",
       " array([-0.8947345 , -1.3921515 , -0.37082861]))"
      ]
     },
     "execution_count": 13,
     "metadata": {},
     "output_type": "execute_result"
    }
   ],
   "source": [
    "mf.analyze()\n",
    "##MO energies"
   ]
  },
  {
   "cell_type": "code",
   "execution_count": 14,
   "metadata": {},
   "outputs": [],
   "source": [
    "Natm = mol.natm #number of atoms\n",
    "\n",
    "MOe = mf.mo_energy  #an array of MO energies, in Hartree\n",
    "#print (MOe)\n",
    "\n",
    "occupied = len(np.where(mf.mo_occ > 0)[0])\n",
    "#mf.mo_occ is an array of occupance [2,2,2,2,2,0,0,0,0.....]\n",
    "virtual = N_bf - occupied\n",
    "#print (occupied, virtual, N_bf)"
   ]
  },
  {
   "cell_type": "code",
   "execution_count": 15,
   "metadata": {},
   "outputs": [],
   "source": [
    "#check whether a is symmetric\n",
    "def check_symmetric(a, tol=1e-12):\n",
    "    return np.all(np.abs(a-a.T) < tol)"
   ]
  },
  {
   "cell_type": "code",
   "execution_count": 16,
   "metadata": {},
   "outputs": [],
   "source": [
    "#mf.mulliken_pop_meta_lowdin_ao()\n",
    "#population analysis\n",
    "#mf.mulliken_pop()"
   ]
  },
  {
   "cell_type": "code",
   "execution_count": 61,
   "metadata": {},
   "outputs": [
    {
     "name": "stdout",
     "output_type": "stream",
     "text": [
      "(48, 48)\n"
     ]
    }
   ],
   "source": [
    "c = mf.mo_coeff \n",
    "# mf.mo_coeff is the coefficient matrix\n",
    "print (np.shape(c))\n",
    "#print (np.round(c,2))\n",
    "#print (check_symmetric(c, tol=1e-8))\n",
    "\n",
    "#S = np.dot(np.linalg.inv(c.T), np.linalg.inv(c))\n",
    "\n",
    "S = mf.get_ovlp() #.get_ovlp() is basis overlap matrix\n",
    "\n",
    "s,ket = np.linalg.eigh(S)\n",
    "#s are eigenvalues, must be all positive\n",
    "#each column of ket is a eigenket\n",
    "\n",
    "s = s**0.5\n",
    "X = np.linalg.multi_dot([ket,np.diag(s),ket.T])\n",
    "#X == S^1/2\n",
    "\n",
    "C = np.dot(X,c)\n",
    "# rthogonalized MO coefficients \n",
    "#print (check_symmetric(C, tol=1e-8))\n",
    "\n",
    "#check orthogonalization\n",
    "# for i in range (0, N_bf):\n",
    "#     #C[:,i] = C[:,i]/np.linalg.norm(C[:,i])\n",
    "#     print (np.linalg.norm(C[:,i]))"
   ]
  },
  {
   "cell_type": "code",
   "execution_count": 64,
   "metadata": {},
   "outputs": [],
   "source": [
    "def generateQ (atom_id):\n",
    "    q = np.zeros([N_bf, N_bf])\n",
    "    #N_bf is number Atimic orbitals, q is same size with C\n",
    "    for i in range (0, N_bf):\n",
    "        for p in range (0, N_bf):\n",
    "            for mu in range (0, N_bf):\n",
    "                if AO[mu] == atom_id:\n",
    "                    #collect all basis functions centered on atom_id\n",
    "                    # the last loop is to sum up all C_mui*C_mup, calculate element q[i,p]\n",
    "                    q[i,p] += C[mu,i]*C[mu,p]\n",
    "                    #q[i,p] += 2*C[i,mu]*C[p,mu]\n",
    "    return q\n",
    "\n",
    "\n",
    "Qmatrix = [(generateQ(atom_id)) for atom_id in range (0, Natm)]\n",
    "#a list of q matrix\n",
    "#print (Qmatrix[0])\n",
    "\n",
    "\n",
    "#home_made analysis\n",
    "# for atom_id in range (0, Natm):\n",
    "#     print (check_symmetric(Qmatrix[atom_id], tol=1e-12))\n",
    "#     m = 0\n",
    "#     for i in range (0, occupied):\n",
    "#         m += Qmatrix[atom_id][i,i]\n",
    "#         #sum over occupied orbitals\n",
    "#     print (m)\n"
   ]
  },
  {
   "cell_type": "code",
   "execution_count": 66,
   "metadata": {},
   "outputs": [
    {
     "name": "stdout",
     "output_type": "stream",
     "text": [
      "beta = 1.86 alpha = 0.9\n"
     ]
    }
   ],
   "source": [
    "a_x = 0.38\n",
    "\n",
    "beta1= 1.86\n",
    "beta2=0\n",
    "\n",
    "alpha1= 0.9\n",
    "alpha2=0\n",
    "\n",
    "beta = beta1 + beta2 * a_x\n",
    "alpha = alpha1 + alpha2 * a_x\n",
    "\n",
    "print ('beta =', beta, 'alpha =', alpha)"
   ]
  },
  {
   "cell_type": "code",
   "execution_count": 50,
   "metadata": {},
   "outputs": [],
   "source": [
    "#function to return chemical hardness from dictionary HARDNESS\n",
    "def Hardness (atom_id):\n",
    "    atom = mol.atom_pure_symbol(atom_id) \n",
    "    return HARDNESS[atom]\n",
    "# mol.atom_pure_symbol(atom_id) returns pure element symbol, no special characters\n"
   ]
  },
  {
   "cell_type": "code",
   "execution_count": 51,
   "metadata": {},
   "outputs": [],
   "source": [
    "def eta (atom_A_id, atom_B_id):\n",
    "    eta = (Hardness(atom_A_id) + Hardness(atom_B_id))/2\n",
    "    return eta\n",
    "#eta(0,0)"
   ]
  },
  {
   "cell_type": "code",
   "execution_count": 52,
   "metadata": {},
   "outputs": [],
   "source": [
    "R = pyscf.gto.mole.inter_distance(mol, coords=None) \n",
    "#Inter-particle distance array\n",
    "# unit == ’Bohr’, Its value is 5.29177210903(80)×10^(−11) m\n",
    "#function to return distance between two atoms\n",
    "# def distance (atom_A_id, atom_B_id):\n",
    "# #   distance = R [atom_A_id, atom_B_id]\n",
    "#     a = mol.atom_coord(atom_A_id) #coordinates of atom A\n",
    "#     b = mol.atom_coord(atom_B_id) #coordinates of atom B\n",
    "#     distance = np.linalg.norm (a - b)\n",
    "#     return distance\n",
    "# print (R[3,4], distance(3,4))\n",
    "\n",
    "def gammaJ (atom_A_id, atom_B_id):\n",
    "    gamma_A_B_J = (R[atom_A_id, atom_B_id]**beta + (a_x * eta(atom_A_id, atom_B_id))**(-beta))**(-1/beta)\n",
    "    return gamma_A_B_J\n",
    "#print (gammaJ (2,2))\n",
    "\n",
    "def gammaK (atom_A_id, atom_B_id):\n",
    "    gamma_A_B_K = (R[atom_A_id, atom_B_id]**alpha + eta(atom_A_id, atom_B_id)**(-alpha)) **(-1/alpha)\n",
    "    return gamma_A_B_K\n",
    "#print (gammaK (2,2))\n",
    "\n",
    "\n",
    "#build gammaJ and gammaK matrix\n",
    "GammaJ = np.zeros([Natm, Natm])\n",
    "for i in range (0, Natm):\n",
    "    for j in range (0, Natm):\n",
    "        GammaJ[i,j] = gammaJ (i,j)\n",
    "        \n",
    "GammaK = np.zeros([Natm, Natm])\n",
    "for i in range (0, Natm):\n",
    "    for j in range (0, Natm):\n",
    "        GammaK[i,j] = gammaK (i,j)\n",
    "# print (GammaJ)\n",
    "# print (GammaK)"
   ]
  },
  {
   "cell_type": "code",
   "execution_count": 53,
   "metadata": {},
   "outputs": [],
   "source": [
    "#define two electron intergeral (pq|rs)\n",
    "def ele_intJ (i,j,a,b):\n",
    "    ijab = 0\n",
    "    for atom_A_id in range (0, Natm):\n",
    "        for atom_B_id in range (0, Natm):\n",
    "            ijab += Qmatrix[atom_A_id][i,j] * Qmatrix[atom_B_id][a,b] * GammaJ[atom_A_id, atom_B_id]\n",
    "    return ijab\n",
    "        \n",
    "def ele_intK (i,a,j,b):\n",
    "    iajb = 0\n",
    "    for atom_A_id in range (0, Natm):\n",
    "        for atom_B_id in range (0, Natm):\n",
    "            iajb += Qmatrix[atom_A_id][i,a] * Qmatrix[atom_B_id][j,b] * GammaK[atom_A_id, atom_B_id]\n",
    "    return iajb"
   ]
  },
  {
   "cell_type": "code",
   "execution_count": 54,
   "metadata": {},
   "outputs": [
    {
     "name": "stdout",
     "output_type": "stream",
     "text": [
      "(351, 351)\n",
      "A_sTDA building time = 8.22\n"
     ]
    }
   ],
   "source": [
    "#build A matrix\n",
    "def build_A ():\n",
    "    A = np.zeros ([occupied*virtual, occupied*virtual])\n",
    "    m = -1\n",
    "    for i in range (0, occupied):\n",
    "        for a in range (occupied, N_bf):\n",
    "            m += 1 #for each ia pair, it corresponds to a certain row\n",
    "            n = -1\n",
    "            for j in range (0, occupied):\n",
    "                for b in range (occupied, N_bf):\n",
    "                    n += 1 #for each jb pair, it corresponds to a certain column        \n",
    "                    if i==j and a==b:\n",
    "                        A[m,n] = (MOe[a]-MOe[i]) + 2*ele_intK(i,a,j,b) - ele_intJ(i,j,a,b)\n",
    "                    else:\n",
    "                        A[m,n] = 2*ele_intK(i,a,j,b) - ele_intJ(i,j,a,b)\n",
    "    print (np.shape(A))\n",
    "    return A\n",
    "\n",
    "start = time.time()\n",
    "A = build_A ()*27.21138624598853\n",
    "end = time.time()\n",
    "\n",
    "print ('A_sTDA building time =', round (end - start, 2))"
   ]
  },
  {
   "cell_type": "code",
   "execution_count": 55,
   "metadata": {},
   "outputs": [
    {
     "name": "stdout",
     "output_type": "stream",
     "text": [
      "True\n"
     ]
    }
   ],
   "source": [
    "print (check_symmetric(A, tol=1e-8))"
   ]
  },
  {
   "cell_type": "code",
   "execution_count": 56,
   "metadata": {},
   "outputs": [
    {
     "data": {
      "image/png": "[encoded data removed]",
      "text/plain": [
       "<Figure size 288x288 with 1 Axes>"
      ]
     },
     "metadata": {
      "needs_background": "light"
     },
     "output_type": "display_data"
    }
   ],
   "source": [
    "plt.matshow(A)\n",
    "plt.show()"
   ]
  },
  {
   "cell_type": "code",
   "execution_count": 67,
   "metadata": {},
   "outputs": [
    {
     "name": "stdout",
     "output_type": "stream",
     "text": [
      "[ 6.7657  8.3894  8.6479  9.7055  9.8257 10.1774 11.0724 11.4403 11.5149\n",
      " 11.7099]\n"
     ]
    }
   ],
   "source": [
    "eigv,eigk = np.linalg.eigh(A)\n",
    "idx = eigv.argsort()\n",
    "eigv = eigv[idx]    #eigenvalues\n",
    "eigk = eigk[:,idx]          #eigenkets, m*m\n",
    "\n",
    "#np.linalg.eigh guarantees you that the eigenvalues are sorted and uses a faster algorithm \n",
    "#that takes advantage of the fact that the matrix is symmetric. \n",
    "\n",
    "print (np.round (eigv[:10],4))   \n",
    "# ':n', first n elements; 'n:' all elements except firt n \n",
    "# should be [14.7861 .....]\n",
    "# [14.7863 16.0911 16.2113 17.4589 17.5542 17.5846 18.8167 18.927  19.1089 19.7233] C[mu,i]C[mu,p]\n",
    "# [ 8.3034 10.112  10.3799 11.5895 12.1404 12.3401 13.0298 13.3296 13.5589 13.8144] 2*C[mu,i]C[mu,p]\n",
    "# [14.5926 15.9815 16.0668 17.1443 17.2626 17.5604 18.4418 18.6997 18.903 19.5775] C[i,mu]C[p,mu]\n",
    "# [ 7.7439  9.2133  9.6458 10.5098 10.9138 11.3853 11.9624 12.7994 13.0573 13.3894] 2*C[i,mu]C[p,mu]"
   ]
  },
  {
   "cell_type": "code",
   "execution_count": 30,
   "metadata": {},
   "outputs": [],
   "source": [
    "#a,b = np.linalg.eigh(A_TDA) \n",
    "# to ensure A_TDA is the A matrix in TDA, eigenvalues are same with results solved by build-in methods"
   ]
  },
  {
   "cell_type": "code",
   "execution_count": 31,
   "metadata": {},
   "outputs": [],
   "source": [
    "#print (a[:5]*27.21138624598853)"
   ]
  },
  {
   "cell_type": "code",
   "execution_count": 29,
   "metadata": {},
   "outputs": [],
   "source": [
    "# #this block is to reprocude the TDA A matrix\n",
    "\n",
    "# start = time.time()\n",
    "# vind, hdiag = td.gen_vind(mf)\n",
    "# n = len(hdiag)\n",
    "# print ('size of A_TDA is', n)\n",
    "# A_TDA = np.zeros((n,n))\n",
    "# I = np.eye(n)\n",
    "# for i in range (0,n):\n",
    "#     A_TDA[:,i] = vind (I[:,i])\n",
    "# end = time.time()\n",
    "# print ('vind time =', np.round (end - start,2))\n",
    "# plt.matshow(A_TDA)\n",
    "# plt.show() #visualize the matrix\n",
    "\n",
    "# # the true A matrix in TAD"
   ]
  },
  {
   "cell_type": "code",
   "execution_count": null,
   "metadata": {},
   "outputs": [],
   "source": []
  },
  {
   "cell_type": "code",
   "execution_count": null,
   "metadata": {},
   "outputs": [],
   "source": []
  },
  {
   "cell_type": "code",
   "execution_count": 32,
   "metadata": {},
   "outputs": [],
   "source": [
    "#print (np.round(A_TDA.diagonal(),2))"
   ]
  },
  {
   "cell_type": "code",
   "execution_count": null,
   "metadata": {},
   "outputs": [],
   "source": []
  },
  {
   "cell_type": "code",
   "execution_count": 33,
   "metadata": {},
   "outputs": [],
   "source": [
    "#function to return distance between two atoms\n",
    "# def distance (atom_A_id, atom_B_id):\n",
    "# #   distance = R [atom_A_id, atom_B_id]\n",
    "#     a = mol.atom_coord(atom_A_id) #coordinates of atom A\n",
    "#     b = mol.atom_coord(atom_B_id) #coordinates of atom B\n",
    "#     distance = np.linalg.norm (a - b)\n",
    "#     return distance\n",
    "# #(mol.atom_coord(atom_id)) is to return the coordinates of a certain atom, it is a ndarray\n"
   ]
  },
  {
   "cell_type": "code",
   "execution_count": 34,
   "metadata": {},
   "outputs": [],
   "source": [
    "#nocc = mol.nelectron \n",
    "# mol.nelectron is number of electrons, not necessary the number of MOs"
   ]
  },
  {
   "cell_type": "code",
   "execution_count": null,
   "metadata": {},
   "outputs": [],
   "source": []
  },
  {
   "cell_type": "code",
   "execution_count": null,
   "metadata": {},
   "outputs": [],
   "source": []
  }
 ],
 "metadata": {
  "kernelspec": {
   "display_name": "Python 3",
   "language": "python",
   "name": "python3"
  },
  "language_info": {
   "codemirror_mode": {
    "name": "ipython",
    "version": 3
   },
   "file_extension": ".py",
   "mimetype": "text/x-python",
   "name": "python",
   "nbconvert_exporter": "python",
   "pygments_lexer": "ipython3",
   "version": "3.7.4"
  }
 },
 "nbformat": 4,
 "nbformat_minor": 2
}
